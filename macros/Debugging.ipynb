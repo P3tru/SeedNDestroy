{
 "cells": [
  {
   "cell_type": "code",
   "execution_count": 1,
   "id": "modified-support",
   "metadata": {},
   "outputs": [],
   "source": [
    "R__LOAD_LIBRARY(libRATEvent.so)"
   ]
  },
  {
   "cell_type": "code",
   "execution_count": 2,
   "id": "shared-angola",
   "metadata": {},
   "outputs": [],
   "source": [
    "#include <Wrapper.hh>\n",
    "#include <Hit.hh>\n",
    "#include <TimeSeeding.hh>\n",
    "#include <Centroid.hh>\n",
    "#include <Multilateration.hh>"
   ]
  },
  {
   "cell_type": "code",
   "execution_count": 3,
   "id": "ignored-jewel",
   "metadata": {},
   "outputs": [],
   "source": [
    "wRAT w(\"../inputs/theia_90pct_9000_35000_wbls_3pct/theia_90pct_9000_35000_wbls_3pct_reactorWorld_R461QL_1.root\");"
   ]
  },
  {
   "cell_type": "code",
   "execution_count": 4,
   "id": "therapeutic-andrews",
   "metadata": {},
   "outputs": [],
   "source": [
    "template <typename T>\n",
    "T* GetRootHisto(const char* filename, const char* histname){\n",
    "  auto f = TFile::Open(filename);\n",
    "  // Check if key exist\n",
    "  if(!f->GetListOfKeys()->Contains(histname))\n",
    "      return nullptr;\n",
    "  auto hist = dynamic_cast<T *>(f->Get(histname)->Clone());\n",
    "  hist->SetDirectory(nullptr);\n",
    "  f->Close();\n",
    "  delete f;\n",
    "  return hist;\n",
    "}"
   ]
  },
  {
   "cell_type": "code",
   "execution_count": 5,
   "id": "bound-congress",
   "metadata": {},
   "outputs": [
    {
     "name": "stdout",
     "output_type": "stream",
     "text": [
      "(TH2D *) @0x7f005964a630\n"
     ]
    }
   ],
   "source": [
    "auto hPDF = GetRootHisto<TH2D>(\"../PDFs/theia_90pct_9000_35000_wbls_3pct_positrons_0.5_6.5MeV_QWeight.root\", \"hCTVSTResPDF_TTOF\")"
   ]
  },
  {
   "cell_type": "code",
   "execution_count": 7,
   "id": "ahead-revolution",
   "metadata": {},
   "outputs": [],
   "source": [
    "TH1D *hPDF_TRes = hPDF->ProjectionX();"
   ]
  },
  {
   "cell_type": "code",
   "execution_count": 8,
   "id": "lasting-miracle",
   "metadata": {},
   "outputs": [],
   "source": [
    "Bnds bnds = {\n",
    "    {12.e3/*mm*/, 12.e3/*mm*/, 45.e3/*mm*/},\n",
    "    {-4./*ns*/, 40./*ns*/}\n",
    "};"
   ]
  },
  {
   "cell_type": "code",
   "execution_count": 15,
   "id": "applicable-wings",
   "metadata": {},
   "outputs": [
    {
     "name": "stdout",
     "output_type": "stream",
     "text": [
      "TVector3 A 3D physics vector (x,y,z)=(-1930.204618,-4657.026637,21940.398431) (rho,theta,phi)=(22512.100530,12.940108,-112.512611)\n",
      "TVector3 A 3D physics vector (x,y,z)=(1887.172110,-5199.724228,13111.044277) (rho,theta,phi)=(14230.180345,22.875052,-70.052294)\n"
     ]
    }
   ],
   "source": [
    "w.SetEvt(0);\n",
    "w.GetPosTrue(0).Print();\n",
    "vh = w.GetVHits(0);\n",
    "DTSeed = GetDTSeed(vh, bnds);\n",
    "DTSeed.Print()"
   ]
  },
  {
   "cell_type": "code",
   "execution_count": 14,
   "id": "motivated-campus",
   "metadata": {},
   "outputs": [
    {
     "name": "stdout",
     "output_type": "stream",
     "text": [
      "TVector3 A 3D physics vector (x,y,z)=(-237.627720,-1618.786171,11286.759348) (rho,theta,phi)=(11404.730255,8.248171,-98.351020)\n"
     ]
    }
   ],
   "source": [
    "auto CentroidSeed = GetCentroidSeed(vh, bnds, 4);\n",
    "CentroidSeed.Print()"
   ]
  },
  {
   "cell_type": "code",
   "execution_count": 16,
   "id": "alpha-knock",
   "metadata": {},
   "outputs": [],
   "source": [
    "auto vSeeds = GetVSeeds(vh, hPDF_TRes, -w.GetTriggerTime(0), bnds);"
   ]
  },
  {
   "cell_type": "code",
   "execution_count": 20,
   "id": "loose-turtle",
   "metadata": {},
   "outputs": [
    {
     "name": "stdout",
     "output_type": "stream",
     "text": [
      "TVector3 A 3D physics vector (x,y,z)=(-2242.023154,-4873.561391,23697.178816) (rho,theta,phi)=(24296.801277,12.755552,-114.704224)\n",
      "TVector3 A 3D physics vector (x,y,z)=(-1907.645551,593.742871,-5131.046952) (rho,theta,phi)=(5506.295031,158.725227,162.711570)\n"
     ]
    }
   ],
   "source": [
    "vSeeds.front().Print();\n",
    "vSeeds.back().Print();"
   ]
  },
  {
   "cell_type": "code",
   "execution_count": 27,
   "id": "agricultural-album",
   "metadata": {},
   "outputs": [
    {
     "name": "stdout",
     "output_type": "stream",
     "text": [
      "20\n",
      "9.05798\n"
     ]
    }
   ],
   "source": [
    "TSeed = GetTSeed(vh, vSeeds.front(), 1.0, bnds);\n",
    "std::cout << w.GetTriggerTime(0) << std::endl;\n",
    "std::cout << TSeed << std::endl;"
   ]
  },
  {
   "cell_type": "code",
   "execution_count": 28,
   "id": "rational-intake",
   "metadata": {},
   "outputs": [
    {
     "name": "stderr",
     "output_type": "stream",
     "text": [
      "\u001b[1minput_line_118:10:41: \u001b[0m\u001b[0;1;31merror: \u001b[0m\u001b[1mno viable conversion from 'double' to 'std::vector<double>'\u001b[0m\n",
      "    Bnds bnds = {{10.e3, 10.e3, 40.e3}, 1.e2};\n",
      "\u001b[0;1;32m                                        ^~~~\n",
      "\u001b[0m\u001b[1m/usr/lib/gcc/x86_64-pc-linux-gnu/10.2.0/../../../../include/c++/10.2.0/bits/stl_vector.h:553:7: \u001b[0m\u001b[0;1;30mnote: \u001b[0mcandidate constructor not viable: no known conversion from 'double' to 'const std::vector<double, std::allocator<double> > &' for 1st argument\u001b[0m\n",
      "      vector(const vector& __x)\n",
      "\u001b[0;1;32m      ^\n",
      "\u001b[0m\u001b[1m/usr/lib/gcc/x86_64-pc-linux-gnu/10.2.0/../../../../include/c++/10.2.0/bits/stl_vector.h:572:7: \u001b[0m\u001b[0;1;30mnote: \u001b[0mcandidate constructor not viable: no known conversion from 'double' to 'std::vector<double, std::allocator<double> > &&' for 1st argument\u001b[0m\n",
      "      vector(vector&&) noexcept = default;\n",
      "\u001b[0;1;32m      ^\n",
      "\u001b[0m\u001b[1m/usr/lib/gcc/x86_64-pc-linux-gnu/10.2.0/../../../../include/c++/10.2.0/bits/stl_vector.h:625:7: \u001b[0m\u001b[0;1;30mnote: \u001b[0mcandidate constructor not viable: no known conversion from 'double' to 'initializer_list<std::vector<double, std::allocator<double> >::value_type>'\n",
      "      (aka 'initializer_list<double>') for 1st argument\u001b[0m\n",
      "      vector(initializer_list<value_type> __l,\n",
      "\u001b[0;1;32m      ^\n",
      "\u001b[0m"
     ]
    }
   ],
   "source": [
    "double DebugTestSeed(wRAT& w,\n",
    "                     const unsigned& iEvt = 0, const unsigned& iTrigger = 0, \n",
    "                     const unsigned& wPower = 2, const double& TCut = 4.0){\n",
    "    w.SetEvt(iEvt);\n",
    "    std::vector<Hit> vHits = w.GetVHits(iTrigger);\n",
    "\n",
    "    const double TrigTime = w.GetTriggerTime(iTrigger);\n",
    "    std::cout << \"TrigTime=\" << TrigTime << std::endl;\n",
    "\n",
    "    Bnds bnds = {{10.e3, 10.e3, 40.e3}, 1.e2};\n",
    "    TVector3 CentroidSeed = GetCentroidSeed(vHits, bnds, wPower);\n",
    "\n",
    "    TCanvas *c = new TCanvas(\"c\", \"c\", 800, 600);\n",
    "    c->Draw();\n",
    "\n",
    "    return GetTSeed(vHits, CentroidSeed, TCut, bnds);\n",
    "}"
   ]
  },
  {
   "cell_type": "code",
   "execution_count": null,
   "id": "ranging-vocabulary",
   "metadata": {},
   "outputs": [],
   "source": [
    "DebugTestSeed(w, 2, 0, 4, 4.0)"
   ]
  },
  {
   "cell_type": "code",
   "execution_count": null,
   "id": "ranking-gates",
   "metadata": {},
   "outputs": [],
   "source": [
    "TH1D* h=new TH1D(\"hDiff\", \"\", 100, -50., 50);"
   ]
  },
  {
   "cell_type": "code",
   "execution_count": null,
   "id": "incredible-spank",
   "metadata": {},
   "outputs": [],
   "source": [
    "h->Reset();\n",
    "for(auto i=0; i<1000; i++){\n",
    "    w.SetEvt(i);\n",
    "    if(w.GetNTriggers() == 0)\n",
    "        continue;\n",
    "    h->Fill(DebugTestSeed(w, i, 0, 4, 10.0) - w.GetTriggerTime(0));\n",
    "}"
   ]
  },
  {
   "cell_type": "code",
   "execution_count": null,
   "id": "cathedral-price",
   "metadata": {},
   "outputs": [],
   "source": [
    "TCanvas *c = new TCanvas(\"c\", \"c\", 800, 600);"
   ]
  },
  {
   "cell_type": "code",
   "execution_count": null,
   "id": "complex-radical",
   "metadata": {},
   "outputs": [],
   "source": [
    "c->Draw();\n",
    "c->SetLogy();\n",
    "h->Scale(1./h->Integral());\n",
    "h->Draw(\"EHIST\");\n",
    "h->Fit(\"gaus\")"
   ]
  },
  {
   "cell_type": "code",
   "execution_count": null,
   "id": "guided-bhutan",
   "metadata": {},
   "outputs": [],
   "source": [
    "h->Reset();\n",
    "for(auto i=0; i<1000; i++){\n",
    "    w.SetEvt(i);\n",
    "    if(w.GetNTriggers() == 0)\n",
    "        continue;\n",
    "    h->Fill(DebugTestSeed(w, i, 0, 2, 10.0) - w.GetTriggerTime(0));\n",
    "}\n",
    "c->Draw();\n",
    "c->SetLogy();\n",
    "h->Scale(1./h->Integral());\n",
    "h->Draw(\"EHIST\");\n",
    "h->Fit(\"gaus\")"
   ]
  }
 ],
 "metadata": {
  "kernelspec": {
   "display_name": "ROOT C++",
   "language": "c++",
   "name": "root"
  },
  "language_info": {
   "codemirror_mode": "text/x-c++src",
   "file_extension": ".C",
   "mimetype": " text/x-c++src",
   "name": "c++"
  }
 },
 "nbformat": 4,
 "nbformat_minor": 5
}
